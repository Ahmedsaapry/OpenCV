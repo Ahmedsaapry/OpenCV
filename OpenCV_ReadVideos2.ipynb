{
  "nbformat": 4,
  "nbformat_minor": 0,
  "metadata": {
    "colab": {
      "provenance": [],
      "authorship_tag": "ABX9TyMiJLZ2CR7kjllKZrctsT6e",
      "include_colab_link": true
    },
    "kernelspec": {
      "name": "python3",
      "display_name": "Python 3"
    },
    "language_info": {
      "name": "python"
    }
  },
  "cells": [
    {
      "cell_type": "markdown",
      "metadata": {
        "id": "view-in-github",
        "colab_type": "text"
      },
      "source": [
        "<a href=\"https://colab.research.google.com/github/Ahmedsaapry/OpenCV/blob/main/OpenCV_ReadVideos2.ipynb\" target=\"_parent\"><img src=\"https://colab.research.google.com/assets/colab-badge.svg\" alt=\"Open In Colab\"/></a>"
      ]
    },
    {
      "cell_type": "code",
      "execution_count": 1,
      "metadata": {
        "id": "_LOEORO4SbWQ"
      },
      "outputs": [],
      "source": [
        "import cv2"
      ]
    },
    {
      "cell_type": "code",
      "source": [
        "# we can get video from \n",
        "# 1- webcam\n",
        "# 2- local video file\n",
        "# 3- ip camera"
      ],
      "metadata": {
        "id": "5nHwjf8rTCCX"
      },
      "execution_count": 3,
      "outputs": []
    },
    {
      "cell_type": "code",
      "source": [
        "# # 1- WEBCAM\n",
        "\n",
        "# video = cv2.VideoCapture(0)\n",
        "# while True:\n",
        "#     grabbed, frame = video.read()\n",
        "#     frame = cv2.resize(frame, (800,500))\n",
        "\n",
        "#     if cv2.waitKey(1) & 0xff == ord('q'):\n",
        "#         break\n",
        "\n",
        "#     cv2.imshow('video', frame)\n",
        "\n",
        "# video.release()\n",
        "# cv2.destroyAllWindows()    "
      ],
      "metadata": {
        "id": "8jHLGqu7TRP2"
      },
      "execution_count": 15,
      "outputs": []
    },
    {
      "cell_type": "code",
      "source": [
        "# # 2 read local vid file\n",
        "\n",
        "# video = cv2.VideoCapture(\"video/the_flash\")\n",
        "\n",
        "# fps        = int(video.get(cv2.CAP_PROP_FPS))\n",
        "# frames_num = int(video.get(cv2.CAP_PROP_FRAME_COUNT))\n",
        "# w          = int(video.get(cv2.CAP_PROP_FRAME_WIDTH))\n",
        "# h          = int(video.get(cv2.CAP_PROP_FRAME_HEIGHT))\n",
        "\n",
        "# print(fps, \"FPS\")\n",
        "# print(frames_num, \"Frames\")\n",
        "# print(\"Width:\", w)\n",
        "# print(\"Height:\", h)\n",
        "# print('Duration: {} seconds'.format(frames_num // fps))\n"
      ],
      "metadata": {
        "id": "KNgU421zUy2C"
      },
      "execution_count": 16,
      "outputs": []
    },
    {
      "cell_type": "code",
      "source": [],
      "metadata": {
        "id": "eoh5G7_xbOyz"
      },
      "execution_count": null,
      "outputs": []
    }
  ]
}