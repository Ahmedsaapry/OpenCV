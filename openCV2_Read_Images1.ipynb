{
  "nbformat": 4,
  "nbformat_minor": 0,
  "metadata": {
    "colab": {
      "provenance": [],
      "authorship_tag": "ABX9TyPLbfTsKOJgSgREyoaIDJA1",
      "include_colab_link": true
    },
    "kernelspec": {
      "name": "python3",
      "display_name": "Python 3"
    },
    "language_info": {
      "name": "python"
    }
  },
  "cells": [
    {
      "cell_type": "markdown",
      "metadata": {
        "id": "view-in-github",
        "colab_type": "text"
      },
      "source": [
        "<a href=\"https://colab.research.google.com/github/Ahmedsaapry/OpenCV/blob/main/openCV2_Read_Images1.ipynb\" target=\"_parent\"><img src=\"https://colab.research.google.com/assets/colab-badge.svg\" alt=\"Open In Colab\"/></a>"
      ]
    },
    {
      "cell_type": "code",
      "execution_count": 2,
      "metadata": {
        "id": "s598rqloLQn9"
      },
      "outputs": [],
      "source": [
        "# 1- opening the image\n",
        "# 2- exploring other methods \n",
        "# 3- saving image in other format"
      ]
    },
    {
      "cell_type": "code",
      "source": [
        "import cv2"
      ],
      "metadata": {
        "id": "6vROAJEELa9m"
      },
      "execution_count": 3,
      "outputs": []
    },
    {
      "cell_type": "code",
      "source": [
        "# Don't use single quote (') in the image path"
      ],
      "metadata": {
        "id": "NDjzSBPWLhOX"
      },
      "execution_count": 5,
      "outputs": []
    },
    {
      "cell_type": "code",
      "source": [
        "IMG_PATH = \"images\\barryallen.jpg\"                     #upload JPG image\n",
        "\n",
        "image = cv2.imread(IMG_PATH)                          #to read image into numpy array"
      ],
      "metadata": {
        "id": "HMdDwpEOLkKn"
      },
      "execution_count": 19,
      "outputs": []
    },
    {
      "cell_type": "code",
      "source": [
        "# print(\"Shape: {}\".format(image.shape))              #(height, width, 3)\n",
        "# print(\"height: {} pixels\".format(image.shape[0]))\n",
        "# print(\"width: {} pixels\".format(image.shape[1]))\n",
        "# print(\"channels: {}\".format(image.shape[2]))"
      ],
      "metadata": {
        "id": "uOSt5DTbMCB8"
      },
      "execution_count": 10,
      "outputs": []
    },
    {
      "cell_type": "code",
      "source": [
        "# cv2.imshow('Elsora', image)                         #to show image\n",
        "# cv2.waitKey(0)                                      #to show img until i press any button\n",
        "# cv2.waitKey(3000)                                   #show img for 3sec AKA 3000 m.s\n"
      ],
      "metadata": {
        "id": "yRFQ5ACWMKvu"
      },
      "execution_count": 15,
      "outputs": []
    },
    {
      "cell_type": "code",
      "source": [
        "# print(cv2.imwrite('images/modifiedsora.png', image))     #save PNG image"
      ],
      "metadata": {
        "id": "VgzUJR9HMk3S"
      },
      "execution_count": 18,
      "outputs": []
    },
    {
      "cell_type": "code",
      "source": [],
      "metadata": {
        "id": "-9I729i6MpWq"
      },
      "execution_count": null,
      "outputs": []
    }
  ]
}